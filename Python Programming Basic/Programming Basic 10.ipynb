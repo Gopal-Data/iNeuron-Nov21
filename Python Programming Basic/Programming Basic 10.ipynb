{
 "cells": [
  {
   "cell_type": "markdown",
   "id": "cf2d3cd6",
   "metadata": {},
   "source": [
    "1.Write a Python program to find sum of elements in list?"
   ]
  },
  {
   "cell_type": "code",
   "execution_count": 1,
   "id": "6ad45701",
   "metadata": {},
   "outputs": [
    {
     "name": "stdout",
     "output_type": "stream",
     "text": [
      "Enter the Number of Entries: 5\n",
      "Enter a number: 1\n",
      "Enter a number: 2\n",
      "Enter a number: 3\n",
      "Enter a number: 4\n",
      "Enter a number: 5\n",
      "Sum of the Element in the list:15\n"
     ]
    }
   ],
   "source": [
    "def sumlist():\n",
    "    ele = int(input('Enter the Number of Entries: '))\n",
    "    li=[]\n",
    "    for i in range(ele):\n",
    "        li.append(int(input('Enter a number: ')))\n",
    "    print(f'Sum of the Element in the list:{sum(li)}')\n",
    "\n",
    "sumlist()"
   ]
  },
  {
   "cell_type": "markdown",
   "id": "8add99ef",
   "metadata": {},
   "source": [
    "2.Write a Python program to  Multiply all numbers in the list?"
   ]
  },
  {
   "cell_type": "code",
   "execution_count": 2,
   "id": "02676e2c",
   "metadata": {},
   "outputs": [],
   "source": [
    "def mullist():\n",
    "    ele=int(input('Enter a number of element:'))\n",
    "    li=[]\n",
    "    mul=1\n",
    "    for i in range(ele):\n",
    "        li.append(int(input('Enter a list of number')))\n",
    "   #print(li)\n",
    "    for j in li:\n",
    "        mul=mul*ele\n",
    "    print(f'The multiplication value of the list is: {mul}')"
   ]
  },
  {
   "cell_type": "code",
   "execution_count": 3,
   "id": "499d9715",
   "metadata": {},
   "outputs": [
    {
     "name": "stdout",
     "output_type": "stream",
     "text": [
      "Enter a number of element:5\n",
      "Enter a list of number1\n",
      "Enter a list of number2\n",
      "Enter a list of number3\n",
      "Enter a list of number4\n",
      "Enter a list of number5\n",
      "The multiplication value of the list is: 3125\n"
     ]
    }
   ],
   "source": [
    "mullist()"
   ]
  },
  {
   "cell_type": "markdown",
   "id": "69cf4bb1",
   "metadata": {},
   "source": [
    "3.Write a Python program to find smallest number in a list?"
   ]
  },
  {
   "cell_type": "code",
   "execution_count": 4,
   "id": "96e0f691",
   "metadata": {},
   "outputs": [],
   "source": [
    "def smallnum():\n",
    "    ele=int(input('Enter the number: '))\n",
    "    li=[]\n",
    "    for i in range(ele):\n",
    "        li.append(input('Enter the element: '))\n",
    "    print(f'Smallest number in the list is : {sorted(li)[0]}')\n"
   ]
  },
  {
   "cell_type": "code",
   "execution_count": 5,
   "id": "ab2abfc4",
   "metadata": {},
   "outputs": [
    {
     "name": "stdout",
     "output_type": "stream",
     "text": [
      "Enter the number: 6\n",
      "Enter the element: 5\n",
      "Enter the element: 4\n",
      "Enter the element: 5\n",
      "Enter the element: 6\n",
      "Enter the element: 9\n",
      "Enter the element: 8\n",
      "Smallest number in the list is : 4\n"
     ]
    }
   ],
   "source": [
    "smallnum()"
   ]
  },
  {
   "cell_type": "markdown",
   "id": "5864f084",
   "metadata": {},
   "source": [
    "4.Write a Python program to find largest number in a list?"
   ]
  },
  {
   "cell_type": "code",
   "execution_count": 7,
   "id": "34590cf1",
   "metadata": {},
   "outputs": [
    {
     "name": "stdout",
     "output_type": "stream",
     "text": [
      "Enter the number: 6\n",
      "Enter the element: 5\n",
      "Enter the element: 98\n",
      "Enter the element: 87\n",
      "Enter the element: 99\n",
      "Enter the element: 54\n",
      "Enter the element: 445\n",
      "Largest number in the list is : 445\n"
     ]
    }
   ],
   "source": [
    "def largenum():\n",
    "    ele=int(input('Enter the number: '))\n",
    "    li=[]\n",
    "    for i in range(ele):\n",
    "        li.append(int(input('Enter the element: ')))\n",
    "    print(f'Largest number in the list is : {sorted(li)[-1]}')\n",
    "largenum()"
   ]
  },
  {
   "cell_type": "markdown",
   "id": "0ce195ae",
   "metadata": {},
   "source": [
    "5.Write a Python program to find second largest number in a list?"
   ]
  },
  {
   "cell_type": "code",
   "execution_count": 8,
   "id": "3a41f483",
   "metadata": {},
   "outputs": [
    {
     "name": "stdout",
     "output_type": "stream",
     "text": [
      "Enter the number: 5\n",
      "Enter the element: 5\n",
      "Enter the element: 6\n",
      "Enter the element: 4\n",
      "Enter the element: 5\n",
      "Enter the element: 7\n",
      "Second Largest number in the list is : 6\n",
      "['5', '6', '4', '5', '7']\n"
     ]
    }
   ],
   "source": [
    "def Seclargenum():\n",
    "    ele=int(input('Enter the number: '))\n",
    "    li=[]\n",
    "    for i in range(ele):\n",
    "        li.append(input('Enter the element: '))\n",
    "    print(f'Second Largest number in the list is : {sorted(li)[-2]}')\n",
    "    print(li)\n",
    "Seclargenum() "
   ]
  },
  {
   "cell_type": "markdown",
   "id": "586f0174",
   "metadata": {},
   "source": [
    "6.Write a Python program to find N largest elements from a list?"
   ]
  },
  {
   "cell_type": "code",
   "execution_count": 9,
   "id": "5ceb3e9e",
   "metadata": {},
   "outputs": [
    {
     "name": "stdout",
     "output_type": "stream",
     "text": [
      "Enter the number: 6\n",
      "Enter the element: 5\n",
      "Enter the element: 4\n",
      "Enter the element: 88\n",
      "Enter the element: 96\n",
      "Enter the element: 75\n",
      "Enter the element: 4\n",
      "Second Largest number in the list is:[96, 88, 75]\n"
     ]
    }
   ],
   "source": [
    "def nlargenum(a):\n",
    "    ele=int(input('Enter the number: '))\n",
    "    li=[]\n",
    "    for i in range(ele):\n",
    "        li.append(int(input('Enter the element: ')))\n",
    "    print(f'Second Largest number in the list is:{sorted(li,reverse=True)[0:a]}')\n",
    "    \n",
    "nlargenum(3)"
   ]
  },
  {
   "cell_type": "markdown",
   "id": "d592aa09",
   "metadata": {},
   "source": [
    "7.Write a Python program to print even numbers in a list?"
   ]
  },
  {
   "cell_type": "code",
   "execution_count": 10,
   "id": "94d77ca6",
   "metadata": {},
   "outputs": [
    {
     "name": "stdout",
     "output_type": "stream",
     "text": [
      "Enter the No of elements in a list: 5\n",
      "Enter a Element: 2\n",
      "Enter a Element: 6\n",
      "Enter a Element: 5\n",
      "Enter a Element: 8\n",
      "Enter a Element: 9\n",
      "The Even Elements are [2, 6, 8]\n"
     ]
    }
   ],
   "source": [
    "def evenlist():\n",
    "    ele = int(input('Enter the No of elements in a list: '))\n",
    "    li = []\n",
    "    evenlist = []\n",
    "    for ele in range(ele):\n",
    "        li.append(int(input('Enter a Element: ')))\n",
    "    for ele in li:\n",
    "        if ele%2 == 0:\n",
    "            evenlist.append(ele)\n",
    "    print(f'The Even Elements are {evenlist}')\n",
    "\n",
    "evenlist()"
   ]
  },
  {
   "cell_type": "markdown",
   "id": "f8c61102",
   "metadata": {},
   "source": [
    "8.Write a Python program to print odd numbers in a List?"
   ]
  },
  {
   "cell_type": "code",
   "execution_count": 11,
   "id": "968ec940",
   "metadata": {},
   "outputs": [
    {
     "name": "stdout",
     "output_type": "stream",
     "text": [
      "Enter the No of elements in a list: 6\n",
      "Enter a Element: 1\n",
      "Enter a Element: 3\n",
      "Enter a Element: 41\n",
      "Enter a Element: 8\n",
      "Enter a Element: 10\n",
      "Enter a Element: 66\n",
      "The Even Elements are [1, 3, 41]\n"
     ]
    }
   ],
   "source": [
    "def oddlist():\n",
    "    ele = int(input('Enter the No of elements in a list: '))\n",
    "    li = []\n",
    "    oddlist = []\n",
    "    for ele in range(ele):\n",
    "        li.append(int(input('Enter a Element: ')))\n",
    "    for ele in li:\n",
    "        if ele%2 != 0:\n",
    "            oddlist.append(ele)\n",
    "    print(f'The Even Elements are {oddlist}')\n",
    "\n",
    "oddlist()"
   ]
  },
  {
   "cell_type": "markdown",
   "id": "1674cc79",
   "metadata": {},
   "source": [
    "9.Write a Python program to Remove empty List from List?"
   ]
  },
  {
   "cell_type": "code",
   "execution_count": 12,
   "id": "f07834d3",
   "metadata": {},
   "outputs": [
    {
     "name": "stdout",
     "output_type": "stream",
     "text": [
      "Enter all elements of the list: [1,2,3,4,5,[],[],7,8,[]]\n",
      "The List after removing [] is [1, 2, 3, 4, 5, 7, 8]\n"
     ]
    }
   ],
   "source": [
    "def checkEmptyList():\n",
    "    li = eval(input('Enter all elements of the list: '))\n",
    "    if [] in li:\n",
    "        li1= list(filter(None, li))\n",
    "        print(f'The List after removing [] is {str(li1)}')\n",
    "   \n",
    "checkEmptyList()"
   ]
  },
  {
   "cell_type": "markdown",
   "id": "0924994a",
   "metadata": {},
   "source": [
    "10.Write a Python program to Cloning or Copying a list?"
   ]
  },
  {
   "cell_type": "code",
   "execution_count": 13,
   "id": "ae3d7763",
   "metadata": {},
   "outputs": [
    {
     "name": "stdout",
     "output_type": "stream",
     "text": [
      "Enter a list[1, 2, 3, 4, 5, 7, 8]\n",
      "[1, 2, 3, 4, 5, 7, 8] 2496606149568\n",
      "[1, 2, 3, 4, 5, 7, 8] 2496610987840\n"
     ]
    }
   ],
   "source": [
    "def DupList():\n",
    "    li = eval(input('Enter a list'))\n",
    "    print(li, id(li))\n",
    "    Cli = li.copy()\n",
    "    print(Cli, id(Cli))\n",
    "\n",
    "DupList()"
   ]
  },
  {
   "cell_type": "markdown",
   "id": "d8ec74d9",
   "metadata": {},
   "source": [
    "11.Write a Python program to Count occurrences of an element in a list?"
   ]
  },
  {
   "cell_type": "code",
   "execution_count": 14,
   "id": "f80b5754",
   "metadata": {},
   "outputs": [
    {
     "name": "stdout",
     "output_type": "stream",
     "text": [
      "Enter the elements of the list: [1,2,3,1,2,3,1,2,3,1]\n",
      "Enter the element to find: 1\n",
      "There are 4 occurences of 1\n"
     ]
    }
   ],
   "source": [
    "def checkreoccurence():\n",
    "    li = eval(input('Enter the elements of the list: '))\n",
    "    num = eval(input('Enter the element to find: '))\n",
    "    count = 0\n",
    "    if num in li:\n",
    "        for ele in li:\n",
    "            if ele == num:\n",
    "                count = count+1\n",
    "    print(f'There are {count} occurences of {num}')\n",
    "    \n",
    "checkreoccurence()"
   ]
  }
 ],
 "metadata": {
  "kernelspec": {
   "display_name": "Python 3 (ipykernel)",
   "language": "python",
   "name": "python3"
  },
  "language_info": {
   "codemirror_mode": {
    "name": "ipython",
    "version": 3
   },
   "file_extension": ".py",
   "mimetype": "text/x-python",
   "name": "python",
   "nbconvert_exporter": "python",
   "pygments_lexer": "ipython3",
   "version": "3.8.8"
  },
  "toc": {
   "base_numbering": 1,
   "nav_menu": {},
   "number_sections": false,
   "sideBar": true,
   "skip_h1_title": false,
   "title_cell": "Table of Contents",
   "title_sidebar": "Contents",
   "toc_cell": false,
   "toc_position": {},
   "toc_section_display": true,
   "toc_window_display": false
  },
  "varInspector": {
   "cols": {
    "lenName": 16,
    "lenType": 16,
    "lenVar": 40
   },
   "kernels_config": {
    "python": {
     "delete_cmd_postfix": "",
     "delete_cmd_prefix": "del ",
     "library": "var_list.py",
     "varRefreshCmd": "print(var_dic_list())"
    },
    "r": {
     "delete_cmd_postfix": ") ",
     "delete_cmd_prefix": "rm(",
     "library": "var_list.r",
     "varRefreshCmd": "cat(var_dic_list()) "
    }
   },
   "types_to_exclude": [
    "module",
    "function",
    "builtin_function_or_method",
    "instance",
    "_Feature"
   ],
   "window_display": false
  }
 },
 "nbformat": 4,
 "nbformat_minor": 5
}
