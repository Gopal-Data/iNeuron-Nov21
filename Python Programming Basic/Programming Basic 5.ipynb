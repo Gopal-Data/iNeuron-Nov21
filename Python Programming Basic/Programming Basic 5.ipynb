{
 "cells": [
  {
   "cell_type": "markdown",
   "id": "376747b9",
   "metadata": {},
   "source": [
    "1.Write a Python Program to Find LCM?"
   ]
  },
  {
   "cell_type": "code",
   "execution_count": 1,
   "id": "4ac61361",
   "metadata": {},
   "outputs": [
    {
     "data": {
      "text/plain": [
       "35"
      ]
     },
     "execution_count": 1,
     "metadata": {},
     "output_type": "execute_result"
    }
   ],
   "source": [
    "def LCM(x,y):\n",
    "  if x>y:\n",
    "    greater=x\n",
    "  else:\n",
    "    greater=y\n",
    "  while (True):\n",
    "    if ((greater%x==0) and (greater%y==0)):\n",
    "      LCM=greater\n",
    "      break\n",
    "    greater=greater+1\n",
    "  return LCM\n",
    "\n",
    "LCM(5,7)"
   ]
  },
  {
   "cell_type": "markdown",
   "id": "ac353413",
   "metadata": {},
   "source": [
    "2.Write a Python Program to Find HCF?"
   ]
  },
  {
   "cell_type": "code",
   "execution_count": 2,
   "id": "be195157",
   "metadata": {},
   "outputs": [
    {
     "data": {
      "text/plain": [
       "5"
      ]
     },
     "execution_count": 2,
     "metadata": {},
     "output_type": "execute_result"
    }
   ],
   "source": [
    "def HCF(x,y):\n",
    "  if x<y:\n",
    "    smaller=x\n",
    "  else:\n",
    "     smaller=y\n",
    "  for i in range(1,smaller+1):\n",
    "    if ((x%i==0)and(y%i==0)):\n",
    "      HCF=i\n",
    "    i=i+1\n",
    "  return HCF \n",
    "\n",
    "HCF(5,10)"
   ]
  },
  {
   "cell_type": "markdown",
   "id": "0c74f1b1",
   "metadata": {},
   "source": [
    "3.Write a Python Program to Convert Decimal to Binary, Octal and Hexadecimal?"
   ]
  },
  {
   "cell_type": "code",
   "execution_count": 4,
   "id": "a76df4e5",
   "metadata": {},
   "outputs": [
    {
     "name": "stdout",
     "output_type": "stream",
     "text": [
      "Enter a No 5\n",
      "The decimal value of 5 is:\n",
      "0b101 in binary.\n",
      "0o5 in octal.\n",
      "0x5 in hexadecimal.\n"
     ]
    }
   ],
   "source": [
    "a =int(input('Enter a No '))\n",
    "print(\"The decimal value of\", a , \"is:\")\n",
    "print(bin(a ), \"in binary.\")\n",
    "print(oct(a ), \"in octal.\")\n",
    "print(hex(a ), \"in hexadecimal.\")"
   ]
  },
  {
   "cell_type": "markdown",
   "id": "c59ba9f8",
   "metadata": {},
   "source": [
    "4.Write a Python Program To Find ASCII value of a character?"
   ]
  },
  {
   "cell_type": "code",
   "execution_count": 5,
   "id": "fb68b1a7",
   "metadata": {},
   "outputs": [
    {
     "name": "stdout",
     "output_type": "stream",
     "text": [
      "Enter a character#\n",
      "ASCII value is  35\n"
     ]
    }
   ],
   "source": [
    "chara=str(input('Enter a character'))\n",
    "print('ASCII value is ',ord(chara))"
   ]
  },
  {
   "cell_type": "markdown",
   "id": "de093a2a",
   "metadata": {},
   "source": [
    "5.Write a Python Program to Make a Simple Calculator with 4 basic mathematical operations?"
   ]
  },
  {
   "cell_type": "code",
   "execution_count": 7,
   "id": "c6ed5cd1",
   "metadata": {},
   "outputs": [
    {
     "name": "stdout",
     "output_type": "stream",
     "text": [
      "Enter A Number 5\n",
      "Enter A Number 10\n",
      "The Sum is  15\n",
      "The Substraction is  -5\n",
      "The Multiplication is  50\n",
      "The Division is  0.5\n"
     ]
    }
   ],
   "source": [
    "X=int(input('Enter A Number '))\n",
    "Y=int(input('Enter A Number '))\n",
    "add=X+Y\n",
    "print('The Sum is ',add)\n",
    "sub=X-Y\n",
    "print('The Substraction is ',sub)\n",
    "mul=X*Y\n",
    "print('The Multiplication is ',mul)\n",
    "div=X/Y\n",
    "print('The Division is ',div)"
   ]
  }
 ],
 "metadata": {
  "kernelspec": {
   "display_name": "Python 3 (ipykernel)",
   "language": "python",
   "name": "python3"
  },
  "language_info": {
   "codemirror_mode": {
    "name": "ipython",
    "version": 3
   },
   "file_extension": ".py",
   "mimetype": "text/x-python",
   "name": "python",
   "nbconvert_exporter": "python",
   "pygments_lexer": "ipython3",
   "version": "3.8.8"
  },
  "toc": {
   "base_numbering": 1,
   "nav_menu": {},
   "number_sections": false,
   "sideBar": true,
   "skip_h1_title": false,
   "title_cell": "Table of Contents",
   "title_sidebar": "Contents",
   "toc_cell": false,
   "toc_position": {},
   "toc_section_display": true,
   "toc_window_display": false
  },
  "varInspector": {
   "cols": {
    "lenName": 16,
    "lenType": 16,
    "lenVar": 40
   },
   "kernels_config": {
    "python": {
     "delete_cmd_postfix": "",
     "delete_cmd_prefix": "del ",
     "library": "var_list.py",
     "varRefreshCmd": "print(var_dic_list())"
    },
    "r": {
     "delete_cmd_postfix": ") ",
     "delete_cmd_prefix": "rm(",
     "library": "var_list.r",
     "varRefreshCmd": "cat(var_dic_list()) "
    }
   },
   "types_to_exclude": [
    "module",
    "function",
    "builtin_function_or_method",
    "instance",
    "_Feature"
   ],
   "window_display": false
  }
 },
 "nbformat": 4,
 "nbformat_minor": 5
}
