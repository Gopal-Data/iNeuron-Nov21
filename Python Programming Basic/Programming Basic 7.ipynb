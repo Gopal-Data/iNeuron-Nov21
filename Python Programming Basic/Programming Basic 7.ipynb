{
 "cells": [
  {
   "cell_type": "markdown",
   "id": "025a7da8",
   "metadata": {},
   "source": [
    "1.Write a Python Program to find sum of array?\n",
    "\n"
   ]
  },
  {
   "cell_type": "code",
   "execution_count": 1,
   "id": "9da76427",
   "metadata": {},
   "outputs": [
    {
     "name": "stdout",
     "output_type": "stream",
     "text": [
      "The sum of [1, 2, 3] is 6\n"
     ]
    }
   ],
   "source": [
    "def sumarr(a):\n",
    "    print(f'The sum of {a} is {sum(a)}')\n",
    "\n",
    "arr=[1,2,3]\n",
    "sumarr(arr)"
   ]
  },
  {
   "cell_type": "markdown",
   "id": "86e056b7",
   "metadata": {},
   "source": [
    "2.Write a Python Program to find largest element in an array?"
   ]
  },
  {
   "cell_type": "code",
   "execution_count": 2,
   "id": "2e85754c",
   "metadata": {},
   "outputs": [
    {
     "name": "stdout",
     "output_type": "stream",
     "text": [
      "The Largest Element in [1, 20, 3] is 20\n"
     ]
    }
   ],
   "source": [
    "def largestElement(a):\n",
    "    print(f\"The Largest Element in {a} is {sorted(a, reverse=True)[0]}\")\n",
    "\n",
    "arr = [1,20,3]\n",
    "largestElement(arr)"
   ]
  },
  {
   "cell_type": "markdown",
   "id": "90559cf3",
   "metadata": {},
   "source": [
    "3. Write a Python Program for array rotation?"
   ]
  },
  {
   "cell_type": "code",
   "execution_count": 3,
   "id": "7c65414b",
   "metadata": {},
   "outputs": [
    {
     "name": "stdout",
     "output_type": "stream",
     "text": [
      "The Reverse of Array [5, 10, 45] is [45, 10, 5]\n"
     ]
    }
   ],
   "source": [
    "def reverseOfArray(a):\n",
    "    print(f\"The Reverse of Array {a} is {a[::-1]}\")\n",
    "    \n",
    "arr=[5,10,45]\n",
    "reverseOfArray(arr)"
   ]
  },
  {
   "cell_type": "markdown",
   "id": "f4ceb06e",
   "metadata": {},
   "source": [
    "4.Write a Python Program to Split the array and add the first part to the end?"
   ]
  },
  {
   "cell_type": "code",
   "execution_count": 4,
   "id": "d0e41c7a",
   "metadata": {},
   "outputs": [
    {
     "name": "stdout",
     "output_type": "stream",
     "text": [
      "The Sum of First and Last Elements of Array [5, 10, 45] is 50\n"
     ]
    }
   ],
   "source": [
    "def sumOfSplits(a):\n",
    "    print(f\"The Sum of First and Last Elements of Array {a} is {a[0]+a[-1]}\")\n",
    "    \n",
    "arr=[5,10,45]    \n",
    "sumOfSplits(arr)"
   ]
  },
  {
   "cell_type": "markdown",
   "id": "08044369",
   "metadata": {},
   "source": [
    "5.Write a Python Program to check if given array is Monotonic?"
   ]
  },
  {
   "cell_type": "code",
   "execution_count": 5,
   "id": "c0e00304",
   "metadata": {},
   "outputs": [],
   "source": [
    "def checkMonotonic(a):\n",
    "    if(all(a[i]<=a[i+1] for i in range(len(a)-1)) or all(a[i]>=a[i+1] for i in range(len(a)-1))):\n",
    "        print(f'Array {a} is Monotonic')\n",
    "    else:\n",
    "        print(f'Array {a} is Not Monotonic')"
   ]
  },
  {
   "cell_type": "code",
   "execution_count": 6,
   "id": "b1c6fc26",
   "metadata": {},
   "outputs": [
    {
     "name": "stdout",
     "output_type": "stream",
     "text": [
      "Array [2, 6, 7] is Monotonic\n"
     ]
    }
   ],
   "source": [
    "arr=[2,6,7]  \n",
    "checkMonotonic(arr)"
   ]
  }
 ],
 "metadata": {
  "kernelspec": {
   "display_name": "Python 3 (ipykernel)",
   "language": "python",
   "name": "python3"
  },
  "language_info": {
   "codemirror_mode": {
    "name": "ipython",
    "version": 3
   },
   "file_extension": ".py",
   "mimetype": "text/x-python",
   "name": "python",
   "nbconvert_exporter": "python",
   "pygments_lexer": "ipython3",
   "version": "3.8.8"
  },
  "toc": {
   "base_numbering": 1,
   "nav_menu": {},
   "number_sections": false,
   "sideBar": true,
   "skip_h1_title": false,
   "title_cell": "Table of Contents",
   "title_sidebar": "Contents",
   "toc_cell": false,
   "toc_position": {},
   "toc_section_display": true,
   "toc_window_display": false
  },
  "varInspector": {
   "cols": {
    "lenName": 16,
    "lenType": 16,
    "lenVar": 40
   },
   "kernels_config": {
    "python": {
     "delete_cmd_postfix": "",
     "delete_cmd_prefix": "del ",
     "library": "var_list.py",
     "varRefreshCmd": "print(var_dic_list())"
    },
    "r": {
     "delete_cmd_postfix": ") ",
     "delete_cmd_prefix": "rm(",
     "library": "var_list.r",
     "varRefreshCmd": "cat(var_dic_list()) "
    }
   },
   "types_to_exclude": [
    "module",
    "function",
    "builtin_function_or_method",
    "instance",
    "_Feature"
   ],
   "window_display": false
  }
 },
 "nbformat": 4,
 "nbformat_minor": 5
}
