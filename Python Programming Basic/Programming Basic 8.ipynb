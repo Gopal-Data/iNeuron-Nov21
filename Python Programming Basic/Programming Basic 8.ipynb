{
 "cells": [
  {
   "cell_type": "markdown",
   "id": "22ea3300",
   "metadata": {},
   "source": [
    "1.Write a Python Program to Add Two Matrices?"
   ]
  },
  {
   "cell_type": "code",
   "execution_count": 1,
   "id": "1ea6f8df",
   "metadata": {},
   "outputs": [
    {
     "name": "stdout",
     "output_type": "stream",
     "text": [
      "[12, 14, 16]\n",
      "[18, 20, 22]\n",
      "[24, 26, 28]\n"
     ]
    }
   ],
   "source": [
    "X = [[1,2,3],\n",
    "    [4,5,6],\n",
    "    [7,8,9]]\n",
    "\n",
    "Y = [[11,12,13],\n",
    "    [14,15,16],\n",
    "    [17,18,19]]\n",
    "\n",
    "result = [[0,0,0],\n",
    "          [0,0,0],\n",
    "         [0,0,0]]\n",
    "\n",
    "for i in range (len(X)):\n",
    "    for j in range (len(X[0])):\n",
    "        result[i][j] = X[i][j] + Y[i][j]\n",
    "\n",
    "for r in result:\n",
    "  print(r)"
   ]
  },
  {
   "cell_type": "markdown",
   "id": "c3920300",
   "metadata": {},
   "source": [
    "2.Write a Python Program to Multiply Two Matrices?"
   ]
  },
  {
   "cell_type": "code",
   "execution_count": 2,
   "id": "f95c6616",
   "metadata": {},
   "outputs": [
    {
     "name": "stdout",
     "output_type": "stream",
     "text": [
      "[11, 24, 39]\n",
      "[56, 75, 96]\n",
      "[119, 144, 171]\n"
     ]
    }
   ],
   "source": [
    "X = [[1,2,3],\n",
    "    [4,5,6],\n",
    "    [7,8,9]]\n",
    "\n",
    "Y = [[11,12,13],\n",
    "    [14,15,16],\n",
    "    [17,18,19]]\n",
    "\n",
    "result = [[0,0,0],\n",
    "          [0,0,0],\n",
    "         [0,0,0]]\n",
    "\n",
    "for i in range (len(X)):\n",
    "    for j in range (len(X[0])):\n",
    "        result[i][j] = X[i][j] * Y[i][j]\n",
    "\n",
    "for r in result:\n",
    "  print(r)"
   ]
  },
  {
   "cell_type": "markdown",
   "id": "76b9201d",
   "metadata": {},
   "source": [
    "3.Write a Python Program to Transpose a Matrix?"
   ]
  },
  {
   "cell_type": "code",
   "execution_count": 3,
   "id": "016a4c94",
   "metadata": {},
   "outputs": [
    {
     "name": "stdout",
     "output_type": "stream",
     "text": [
      "[1, 4, 7]\n",
      "[2, 5, 8]\n",
      "[3, 6, 9]\n"
     ]
    }
   ],
   "source": [
    "a = [[1,2,3],\n",
    "    [4,5,6],\n",
    "    [7,8,9]]\n",
    "\n",
    "b = []\n",
    "for ele in range(len(a[0])):\n",
    "    b.append([0 for i in range(len(a))])\n",
    "for i in range(len(a)):\n",
    "    for j in range(len(a[0])):\n",
    "        b[j][i] = a[i][j]\n",
    "\n",
    "for r in b:\n",
    "  print(r)"
   ]
  },
  {
   "cell_type": "markdown",
   "id": "8909ebb1",
   "metadata": {},
   "source": [
    "4.Write a Python Program to Sort Words in Alphabetic Order?"
   ]
  },
  {
   "cell_type": "code",
   "execution_count": 4,
   "id": "b3855d72",
   "metadata": {},
   "outputs": [
    {
     "name": "stdout",
     "output_type": "stream",
     "text": [
      "Enter The Sentence:  Write a Python Program to Sort Words in Alphabetic Order?\n",
      "Alphabetic\n",
      "Order?\n",
      "Program\n",
      "Python\n",
      "Sort\n",
      "Words\n",
      "Write\n",
      "a\n",
      "in\n",
      "to\n"
     ]
    }
   ],
   "source": [
    "str = input('Enter The Sentence:  ')\n",
    "words=sorted(str.split())\n",
    "for word in words:\n",
    "  print(word)"
   ]
  },
  {
   "cell_type": "markdown",
   "id": "1120a45a",
   "metadata": {},
   "source": [
    "5.Write a Python Program to Remove Punctuation From a String?"
   ]
  },
  {
   "cell_type": "code",
   "execution_count": 5,
   "id": "5c957b79",
   "metadata": {},
   "outputs": [
    {
     "name": "stdout",
     "output_type": "stream",
     "text": [
      "Enter The Sentence:  Write a Python Program ./to[] Remov\\e \\[]Punctuation From a String?\n",
      "Write a Python Program to Remove Punctuation From a String\n"
     ]
    }
   ],
   "source": [
    "punctuations = '''!()-[]{};:'\"\\,<>./?@#$%^&*_~'''\n",
    "\n",
    "my_str = input('Enter The Sentence:  ')\n",
    "no_punct = \"\"\n",
    "for char in my_str:\n",
    "   if char not in punctuations:\n",
    "       no_punct = no_punct + char\n",
    "\n",
    "print(no_punct)"
   ]
  }
 ],
 "metadata": {
  "kernelspec": {
   "display_name": "Python 3 (ipykernel)",
   "language": "python",
   "name": "python3"
  },
  "language_info": {
   "codemirror_mode": {
    "name": "ipython",
    "version": 3
   },
   "file_extension": ".py",
   "mimetype": "text/x-python",
   "name": "python",
   "nbconvert_exporter": "python",
   "pygments_lexer": "ipython3",
   "version": "3.8.8"
  },
  "toc": {
   "base_numbering": 1,
   "nav_menu": {},
   "number_sections": false,
   "sideBar": true,
   "skip_h1_title": false,
   "title_cell": "Table of Contents",
   "title_sidebar": "Contents",
   "toc_cell": false,
   "toc_position": {},
   "toc_section_display": true,
   "toc_window_display": false
  },
  "varInspector": {
   "cols": {
    "lenName": 16,
    "lenType": 16,
    "lenVar": 40
   },
   "kernels_config": {
    "python": {
     "delete_cmd_postfix": "",
     "delete_cmd_prefix": "del ",
     "library": "var_list.py",
     "varRefreshCmd": "print(var_dic_list())"
    },
    "r": {
     "delete_cmd_postfix": ") ",
     "delete_cmd_prefix": "rm(",
     "library": "var_list.r",
     "varRefreshCmd": "cat(var_dic_list()) "
    }
   },
   "types_to_exclude": [
    "module",
    "function",
    "builtin_function_or_method",
    "instance",
    "_Feature"
   ],
   "window_display": false
  }
 },
 "nbformat": 4,
 "nbformat_minor": 5
}
