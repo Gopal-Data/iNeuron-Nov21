{
 "cells": [
  {
   "cell_type": "markdown",
   "id": "b43b3f42",
   "metadata": {},
   "source": [
    "1.Write a Python program to check if the given number is a Disarium Number?"
   ]
  },
  {
   "cell_type": "code",
   "execution_count": 1,
   "id": "03566354",
   "metadata": {},
   "outputs": [
    {
     "name": "stdout",
     "output_type": "stream",
     "text": [
      "Enter a Number 135\n",
      "135 is a Disarium\n"
     ]
    }
   ],
   "source": [
    "def disarium():\n",
    "    innum = input('Enter a Number ')\n",
    "    sum = 0\n",
    "    for i in range(len(innum)):\n",
    "        sum = sum + int(innum[i])**(i+1)\n",
    "    if sum == int(innum):\n",
    "        print(f'{innum} is a Disarium')\n",
    "    else:\n",
    "        print(f'{innum} is not a disarium')\n",
    "        \n",
    "disarium()"
   ]
  },
  {
   "cell_type": "markdown",
   "id": "1e61c95b",
   "metadata": {},
   "source": [
    "2.Write a Python program to print all disarium numbers between 1 to 100?"
   ]
  },
  {
   "cell_type": "code",
   "execution_count": 2,
   "id": "848a1a1e",
   "metadata": {},
   "outputs": [
    {
     "data": {
      "text/plain": [
       "[1, 2, 3, 4, 5, 6, 7, 8, 9, 89]"
      ]
     },
     "execution_count": 2,
     "metadata": {},
     "output_type": "execute_result"
    }
   ],
   "source": [
    "def disariumrange(start,end):\n",
    "    outputlist = []\n",
    "    for number in range(start,end):\n",
    "        sum = 0\n",
    "        for i in range(len(str(number))):\n",
    "            sum = sum + int(str(number)[i])**(i+1)\n",
    "        if sum == number:\n",
    "            outputlist.append(number)\n",
    "    return outputlist\n",
    "\n",
    "disariumrange(1,100)"
   ]
  },
  {
   "cell_type": "markdown",
   "id": "7abba8cf",
   "metadata": {},
   "source": [
    "3.Write a Python program to check if the given number is Happy Number?"
   ]
  },
  {
   "cell_type": "code",
   "execution_count": 3,
   "id": "5b8ef2ca",
   "metadata": {},
   "outputs": [
    {
     "name": "stdout",
     "output_type": "stream",
     "text": [
      "Enter a Number: 150\n",
      "150 is not a Happy Number\n"
     ]
    }
   ],
   "source": [
    "def HappyNumber():\n",
    "    innum = input('Enter a Number: ')\n",
    "    innum_duplicate = innum\n",
    "    trackNumber = set()   \n",
    "    while True:\n",
    "        if innum != '1' and str(innum) not in trackNumber:\n",
    "            trackNumber.add(innum)\n",
    "            sum = 0\n",
    "            for ele in range(len((innum))):\n",
    "                sum = sum + int(innum[ele])**2\n",
    "            in_num = str(sum)\n",
    "        elif str(innum) in trackNumber:\n",
    "            print(f'{innum_duplicate} is not a Happy Number')\n",
    "            break\n",
    "        else:\n",
    "            print(f'{innum_duplicate} is a Happy Number')\n",
    "            break\n",
    "\n",
    "HappyNumber()"
   ]
  },
  {
   "cell_type": "markdown",
   "id": "abea6496",
   "metadata": {},
   "source": [
    "4.Write a Python program to print all happy numbers between 1 and 100?"
   ]
  },
  {
   "cell_type": "code",
   "execution_count": 4,
   "id": "5f08f155",
   "metadata": {},
   "outputs": [
    {
     "name": "stdout",
     "output_type": "stream",
     "text": [
      "The Happy Numbers between 0 and 100 are [1, 7, 10, 13, 19, 23, 28, 31, 32, 44, 49, 68, 70, 79, 82, 86, 91, 94, 97, 100]\n"
     ]
    }
   ],
   "source": [
    "def Happynumber_range(start,end):\n",
    "    happynumberslist = []\n",
    "    for in_num in range(start,end+1):\n",
    "        in_num = str(in_num)\n",
    "        inum_holder = in_num\n",
    "        trackNumber = []\n",
    "        while True:\n",
    "            if in_num != '1' and str(in_num) not in trackNumber:\n",
    "                trackNumber.append(in_num)\n",
    "                sum = 0\n",
    "                for ele in range(len((in_num))):\n",
    "                    sum = sum + int(in_num[ele])**2\n",
    "                in_num = str(sum)\n",
    "            elif str(in_num) in trackNumber:\n",
    "                break\n",
    "            else:\n",
    "                happynumberslist.append(int(inum_holder))\n",
    "                break\n",
    "    print(f'The Happy Numbers between {start} and {end} are {happynumberslist}')\n",
    "    \n",
    "Happynumber_range(0,100)"
   ]
  },
  {
   "cell_type": "markdown",
   "id": "0b8eb4ec",
   "metadata": {},
   "source": [
    "5.Write a Python program to determine whether the given number is a Harshad Number?"
   ]
  },
  {
   "cell_type": "code",
   "execution_count": 5,
   "id": "11239e08",
   "metadata": {},
   "outputs": [
    {
     "name": "stdout",
     "output_type": "stream",
     "text": [
      "Enter a Number: 15\n",
      "15 is a Not Harshad Number\n"
     ]
    }
   ],
   "source": [
    "def Harshadnumber():\n",
    "    innum = input('Enter a Number: ')\n",
    "    sum = 0\n",
    "    for item in range(len(innum)):\n",
    "        sum = sum + int(innum[item])\n",
    "    if int(innum)%sum == 0:\n",
    "        print(f'{innum} is a Harshad Number')\n",
    "    else:\n",
    "        print(f'{innum} is a Not Harshad Number')\n",
    "\n",
    "Harshadnumber()"
   ]
  },
  {
   "cell_type": "markdown",
   "id": "bee039a5",
   "metadata": {},
   "source": [
    "6.Write a Python program to print all pronic numbers between 1 and 100?"
   ]
  },
  {
   "cell_type": "code",
   "execution_count": 6,
   "id": "7e8e22ed",
   "metadata": {},
   "outputs": [
    {
     "name": "stdout",
     "output_type": "stream",
     "text": [
      "[2, 6, 12, 20, 30, 42, 56, 72, 90, 110, 132, 156, 182, 210, 240, 272, 306, 342, 380, 420, 462, 506, 552, 600, 650, 702, 756, 812, 870, 930, 992, 1056, 1122, 1190, 1260, 1332, 1406, 1482, 1560, 1640, 1722, 1806, 1892, 1980, 2070, 2162, 2256, 2352, 2450, 2550, 2652, 2756, 2862, 2970, 3080, 3192, 3306, 3422, 3540, 3660, 3782, 3906, 4032, 4160, 4290, 4422, 4556, 4692, 4830, 4970, 5112, 5256, 5402, 5550, 5700, 5852, 6006, 6162, 6320, 6480, 6642, 6806, 6972, 7140, 7310, 7482, 7656, 7832, 8010, 8190, 8372, 8556, 8742, 8930, 9120, 9312, 9506, 9702, 9900, 10100]\n"
     ]
    }
   ],
   "source": [
    "def Pronicnumbers(start,end):\n",
    "    output = []\n",
    "    for i in range(start,end+1):\n",
    "        output.append((i)*(i+1))\n",
    "    print(output)\n",
    "                   \n",
    "Pronicnumbers(1,100)"
   ]
  }
 ],
 "metadata": {
  "kernelspec": {
   "display_name": "Python 3 (ipykernel)",
   "language": "python",
   "name": "python3"
  },
  "language_info": {
   "codemirror_mode": {
    "name": "ipython",
    "version": 3
   },
   "file_extension": ".py",
   "mimetype": "text/x-python",
   "name": "python",
   "nbconvert_exporter": "python",
   "pygments_lexer": "ipython3",
   "version": "3.8.8"
  },
  "toc": {
   "base_numbering": 1,
   "nav_menu": {},
   "number_sections": false,
   "sideBar": true,
   "skip_h1_title": false,
   "title_cell": "Table of Contents",
   "title_sidebar": "Contents",
   "toc_cell": false,
   "toc_position": {},
   "toc_section_display": true,
   "toc_window_display": false
  },
  "varInspector": {
   "cols": {
    "lenName": 16,
    "lenType": 16,
    "lenVar": 40
   },
   "kernels_config": {
    "python": {
     "delete_cmd_postfix": "",
     "delete_cmd_prefix": "del ",
     "library": "var_list.py",
     "varRefreshCmd": "print(var_dic_list())"
    },
    "r": {
     "delete_cmd_postfix": ") ",
     "delete_cmd_prefix": "rm(",
     "library": "var_list.r",
     "varRefreshCmd": "cat(var_dic_list()) "
    }
   },
   "types_to_exclude": [
    "module",
    "function",
    "builtin_function_or_method",
    "instance",
    "_Feature"
   ],
   "window_display": false
  }
 },
 "nbformat": 4,
 "nbformat_minor": 5
}
